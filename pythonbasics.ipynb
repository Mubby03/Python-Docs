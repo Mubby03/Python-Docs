{
 "cells": [
  {
   "cell_type": "code",
   "execution_count": 1,
   "id": "fdd72ddf-03a3-466c-bd1d-65eaf5227146",
   "metadata": {},
   "outputs": [
    {
     "name": "stdout",
     "output_type": "stream",
     "text": [
      "John\n",
      "name: John\n",
      "age: 26\n",
      "gender: Male\n"
     ]
    }
   ],
   "source": [
    "# Creating a dictionary\n",
    "my_dict = {'name': 'John', 'age': 25, 'city': 'New York'}\n",
    "\n",
    "# Accessing values\n",
    "print(my_dict['name'])\n",
    "\n",
    "# Updating a value\n",
    "my_dict['age'] = 26\n",
    "\n",
    "# Adding a new key-value pair\n",
    "my_dict['gender'] = 'Male'\n",
    "\n",
    "# Removing a key-value pair\n",
    "del my_dict['city']\n",
    "\n",
    "# Iterating through key-value pairs\n",
    "for key, value in my_dict.items():\n",
    "    print(f'{key}: {value}')\n"
   ]
  },
  {
   "cell_type": "code",
   "execution_count": 2,
   "id": "ed76279d-8770-45e5-89fe-50f895bcef04",
   "metadata": {},
   "outputs": [
    {
     "name": "stdout",
     "output_type": "stream",
     "text": [
      "1\n",
      "1\n",
      "2\n",
      "4\n",
      "5\n",
      "6\n"
     ]
    }
   ],
   "source": [
    "# Creating a list\n",
    "my_list = [1, 2, 3, 4, 5]\n",
    "\n",
    "# Accessing elements\n",
    "print(my_list[0])\n",
    "\n",
    "# Slicing the list\n",
    "subset = my_list[1:4]\n",
    "\n",
    "# Appending an element\n",
    "my_list.append(6)\n",
    "\n",
    "# Removing an element\n",
    "my_list.remove(3)\n",
    "\n",
    "# Iterating through elements\n",
    "for element in my_list:\n",
    "    print(element)"
   ]
  },
  {
   "cell_type": "code",
   "execution_count": 3,
   "id": "f0283b59-803b-4112-8391-38d4eb38c97f",
   "metadata": {},
   "outputs": [
    {
     "name": "stdout",
     "output_type": "stream",
     "text": [
      "H\n"
     ]
    }
   ],
   "source": [
    "# Creating a string\n",
    "my_string = 'Hello, World!'\n",
    "\n",
    "# Accessing characters\n",
    "print(my_string[0])\n",
    "\n",
    "# Slicing the string\n",
    "substring = my_string[7:]\n",
    "\n",
    "# Concatenating strings\n",
    "new_string = my_string + ' How are you?'\n",
    "\n",
    "# String formatting\n",
    "name = 'Alice'\n",
    "age = 30\n",
    "formatted_string = f'My name is {name} and I am {age} years old.'\n",
    "\n",
    "# String methods\n",
    "uppercase_string = my_string.upper()\n"
   ]
  },
  {
   "cell_type": "code",
   "execution_count": 4,
   "id": "0c7e140e-d2d4-4179-b05d-2fa14e86ab56",
   "metadata": {},
   "outputs": [
    {
     "name": "stdout",
     "output_type": "stream",
     "text": [
      "Sum: 15\n",
      "Difference: 5\n"
     ]
    }
   ],
   "source": [
    "# Addition\n",
    "num1 = 10\n",
    "num2 = 5\n",
    "sum_result = num1 + num2\n",
    "\n",
    "# Subtraction\n",
    "difference = num1 - num2\n",
    "\n",
    "print(f'Sum: {sum_result}')\n",
    "print(f'Difference: {difference}')\n"
   ]
  },
  {
   "cell_type": "code",
   "execution_count": 5,
   "id": "e4b85d3f-15ff-4697-a6ed-57297c1cd2cf",
   "metadata": {},
   "outputs": [
    {
     "name": "stdout",
     "output_type": "stream",
     "text": [
      "x is greater than 10\n",
      "y is not greater than 10\n",
      "z is less than 10\n"
     ]
    }
   ],
   "source": [
    "# If statement\n",
    "x = 15\n",
    "\n",
    "if x > 10:\n",
    "    print('x is greater than 10')\n",
    "\n",
    "# If-else statement\n",
    "y = 5\n",
    "\n",
    "if y > 10:\n",
    "    print('y is greater than 10')\n",
    "else:\n",
    "    print('y is not greater than 10')\n",
    "\n",
    "# If-elif-else statement\n",
    "z = 7\n",
    "\n",
    "if z > 10:\n",
    "    print('z is greater than 10')\n",
    "elif z == 10:\n",
    "    print('z is equal to 10')\n",
    "else:\n",
    "    print('z is less than 10')\n"
   ]
  },
  {
   "cell_type": "code",
   "execution_count": 6,
   "id": "159c0862-974e-4665-8c49-f5883937745b",
   "metadata": {},
   "outputs": [
    {
     "name": "stdout",
     "output_type": "stream",
     "text": [
      "This is case 1\n",
      "This is the default case\n"
     ]
    }
   ],
   "source": [
    "def switch_case(argument):\n",
    "    switch_dict = {\n",
    "        'case1': 'This is case 1',\n",
    "        'case2': 'This is case 2',\n",
    "        'case3': 'This is case 3'\n",
    "    }\n",
    "    \n",
    "    result = switch_dict.get(argument, 'This is the default case')\n",
    "    print(result)\n",
    "\n",
    "# Test cases\n",
    "switch_case('case1')\n",
    "switch_case('case4')  # This will trigger the default case\n"
   ]
  },
  {
   "cell_type": "code",
   "execution_count": 7,
   "id": "9c43099b-6811-43c2-8b59-235c0b3e27ea",
   "metadata": {},
   "outputs": [
    {
     "name": "stdout",
     "output_type": "stream",
     "text": [
      "Iteration 0\n",
      "Iteration 1\n",
      "Iteration 2\n",
      "Iteration 3\n",
      "Iteration 4\n",
      "Fruit: apple\n",
      "Fruit: orange\n",
      "Fruit: banana\n"
     ]
    }
   ],
   "source": [
    "# For loop to iterate over a range of numbers\n",
    "for i in range(5):\n",
    "    print(f'Iteration {i}')\n",
    "\n",
    "# For loop to iterate over elements in a list\n",
    "fruits = ['apple', 'orange', 'banana']\n",
    "for fruit in fruits:\n",
    "    print(f'Fruit: {fruit}')\n"
   ]
  },
  {
   "cell_type": "code",
   "execution_count": 8,
   "id": "9dd00ade-45d5-4770-bee0-c006bc72240c",
   "metadata": {},
   "outputs": [
    {
     "name": "stdout",
     "output_type": "stream",
     "text": [
      "Counter: 0\n",
      "Counter: 1\n",
      "Counter: 2\n",
      "Counter: 3\n",
      "Counter: 4\n",
      "Number: 1\n",
      "Number: 2\n",
      "Number: 4\n",
      "Number: 8\n",
      "Number: 16\n"
     ]
    }
   ],
   "source": [
    "# While loop to iterate until a condition is met\n",
    "counter = 0\n",
    "\n",
    "while counter < 5:\n",
    "    print(f'Counter: {counter}')\n",
    "    counter += 1\n",
    "\n",
    "# While loop with a break statement\n",
    "number = 1\n",
    "\n",
    "while True:\n",
    "    print(f'Number: {number}')\n",
    "    number *= 2\n",
    "\n",
    "    if number > 16:\n",
    "        break\n"
   ]
  },
  {
   "cell_type": "code",
   "execution_count": null,
   "id": "b52ce10f-2ae9-4f6c-9814-15ea0093e7ec",
   "metadata": {},
   "outputs": [],
   "source": []
  }
 ],
 "metadata": {
  "kernelspec": {
   "display_name": "Python 3 (ipykernel)",
   "language": "python",
   "name": "python3"
  },
  "language_info": {
   "codemirror_mode": {
    "name": "ipython",
    "version": 3
   },
   "file_extension": ".py",
   "mimetype": "text/x-python",
   "name": "python",
   "nbconvert_exporter": "python",
   "pygments_lexer": "ipython3",
   "version": "3.11.5"
  }
 },
 "nbformat": 4,
 "nbformat_minor": 5
}
