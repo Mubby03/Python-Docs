{
 "cells": [
  {
   "cell_type": "code",
   "execution_count": 1,
   "id": "a37eee3b",
   "metadata": {},
   "outputs": [
    {
     "name": "stdout",
     "output_type": "stream",
     "text": [
      "The list containing multiples of 3 between 1 to 31 includes: [3, 6, 9, 12, 15, 18, 21, 24, 27, 30]\n",
      "The list containing even numbers between 1 and 21: [2, 4, 6, 8, 10, 12, 14, 16, 18, 20]\n",
      "The list containing perfect squares between 1 and 101 includes: [1, 4, 9, 16, 25, 36, 49, 64, 81, 100]\n"
     ]
    }
   ],
   "source": [
    "    # Lawal Mubaraq Abiodun\n",
    "    # 20/2714\n",
    "    # CIS\n",
    "    # OOP with python Quiz to generate lists using list comprehension. \n",
    "    \n",
    "# multiples of 3 between 1 to 31\n",
    "M = [i for i in range(1, 32) if i % 3 == 0]\n",
    "\n",
    "# even integers between 1 to 21\n",
    "E = [i for i in range(1, 22) if i % 2 == 0]\n",
    "\n",
    "# perfect squares between 1 and 101\n",
    "P = [i for i in range(1, 102) if int(i ** 0.5) ** 2 == i]\n",
    "\n",
    "print(\"The list containing multiples of 3 between 1 to 31 includes:\", M)\n",
    "\n",
    "print(\"The list containing even numbers between 1 and 21:\", E)\n",
    "\n",
    "print(\"The list containing perfect squares between 1 and 101 includes:\", P)"
   ]
  },
  {
   "cell_type": "code",
   "execution_count": null,
   "id": "2c16be5b",
   "metadata": {},
   "outputs": [],
   "source": []
  },
  {
   "cell_type": "code",
   "execution_count": null,
   "id": "808b7f8b",
   "metadata": {},
   "outputs": [],
   "source": []
  }
 ],
 "metadata": {
  "kernelspec": {
   "display_name": "Python 3 (ipykernel)",
   "language": "python",
   "name": "python3"
  },
  "language_info": {
   "codemirror_mode": {
    "name": "ipython",
    "version": 3
   },
   "file_extension": ".py",
   "mimetype": "text/x-python",
   "name": "python",
   "nbconvert_exporter": "python",
   "pygments_lexer": "ipython3",
   "version": "3.11.5"
  }
 },
 "nbformat": 4,
 "nbformat_minor": 5
}
