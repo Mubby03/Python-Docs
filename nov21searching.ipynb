{
 "cells": [
  {
   "cell_type": "code",
   "execution_count": 5,
   "id": "470c36ab-5764-468b-890c-7186c63ca865",
   "metadata": {},
   "outputs": [
    {
     "name": "stdout",
     "output_type": "stream",
     "text": [
      "['A', 'B', 'S', 'C', 'D', 'E', 'H', 'G', 'F']\n"
     ]
    }
   ],
   "source": [
    "#depth first search\n",
    "graph1 = {\n",
    "    'A': ['B', 'S'],\n",
    "    'B': ['A'],\n",
    "    'C': ['D', 'E', 'F', 'S'],\n",
    "    'D': ['C'],\n",
    "    'E': ['C', 'H'],\n",
    "    'F': ['C', 'G'],\n",
    "    'G': ['F', 'S'],\n",
    "    'H': ['E', 'G'],\n",
    "    'S': ['A', 'C', 'G']\n",
    "}\n",
    "\n",
    "def dfs(graph, node, visited):\n",
    "    if node not in visited:\n",
    "        visited.append(node)\n",
    "        for k in graph[node]:\n",
    "            dfs(graph, k, visited)\n",
    "    return visited\n",
    "\n",
    "visited = dfs(graph1, 'A', [])\n",
    "print(visited)\n"
   ]
  },
  {
   "cell_type": "code",
   "execution_count": 3,
   "id": "faf7ecac-9cc8-4615-9628-32ee3e67175a",
   "metadata": {},
   "outputs": [
    {
     "name": "stdout",
     "output_type": "stream",
     "text": [
      "Visited Node: A\n",
      "Visited Node: B\n",
      "Visited Node: S\n",
      "Visited Node: C\n",
      "Visited Node: G\n",
      "Visited Node: D\n",
      "Visited Node: E\n",
      "Visited Node: F\n",
      "Visited Node: H\n",
      "Final Visited Nodes: ['A', 'B', 'S', 'C', 'G', 'D', 'E', 'F', 'H']\n"
     ]
    }
   ],
   "source": [
    "#breadth first search\n",
    "from collections import deque\n",
    "\n",
    "graph2 = {\n",
    "    'A': ['B', 'S'],\n",
    "    'B': ['A'],\n",
    "    'C': ['D', 'E', 'F', 'S'],\n",
    "    'D': ['C'],\n",
    "    'E': ['C', 'H'],\n",
    "    'F': ['C', 'G'],\n",
    "    'G': ['F', 'S'],\n",
    "    'H': ['E', 'G'],\n",
    "    'S': ['A', 'C', 'G']\n",
    "}\n",
    "\n",
    "def bfs(graph, start):\n",
    "    visited = []\n",
    "    queue = deque([start])\n",
    "\n",
    "    while queue:\n",
    "        node = queue.popleft()\n",
    "        if node not in visited:\n",
    "            visited.append(node)\n",
    "            print(f\"Visited Node: {node}\")\n",
    "            queue.extend(graph[node])\n",
    "\n",
    "    return visited\n",
    "\n",
    "visited_bfs = bfs(graph2, 'A')\n",
    "print(\"Final Visited Nodes:\", visited_bfs)"
   ]
  },
  {
   "cell_type": "code",
   "execution_count": 6,
   "id": "1aef4aa5-8395-49ab-b5ca-fb2475265136",
   "metadata": {},
   "outputs": [
    {
     "name": "stdout",
     "output_type": "stream",
     "text": [
      "['A', 'B', 'C', 'D', 'E', 'F', 'G', 'H', 'I', 'J', 'K', 'L', 'M']\n"
     ]
    }
   ],
   "source": [
    "#breadth first search\n",
    "from collections import deque\n",
    "\n",
    "graph3 = {\n",
    "    'A': ['B', 'C'],\n",
    "    'B': ['D', 'E'],\n",
    "    'C': ['F', 'G'],\n",
    "    'D': ['H', 'I'],\n",
    "    'E': ['J', 'K'],\n",
    "    'F': ['L', 'M'],\n",
    "    'G': [],  \n",
    "    'H': [],\n",
    "    'I': [],\n",
    "    'J': [],\n",
    "    'K': [],\n",
    "    'L': [],\n",
    "    'M': []\n",
    "}\n",
    "\n",
    "def bfs(graph, start):\n",
    "    visited = []\n",
    "    queue = deque([start])\n",
    "\n",
    "    while queue:\n",
    "        node = queue.popleft()\n",
    "        if node not in visited:\n",
    "            visited.append(node)\n",
    "            # Enqueue the children of the node\n",
    "            queue.extend(graph[node])\n",
    "\n",
    "    return visited\n",
    "\n",
    "# Perform BFS starting from the root node 'A'\n",
    "bfs_visited = bfs(graph3, 'A')\n",
    "print(bfs_visited)"
   ]
  },
  {
   "cell_type": "code",
   "execution_count": null,
   "id": "2e4e81b0-a92f-469f-9416-e07059432949",
   "metadata": {},
   "outputs": [],
   "source": []
  }
 ],
 "metadata": {
  "kernelspec": {
   "display_name": "Python 3 (ipykernel)",
   "language": "python",
   "name": "python3"
  },
  "language_info": {
   "codemirror_mode": {
    "name": "ipython",
    "version": 3
   },
   "file_extension": ".py",
   "mimetype": "text/x-python",
   "name": "python",
   "nbconvert_exporter": "python",
   "pygments_lexer": "ipython3",
   "version": "3.11.5"
  }
 },
 "nbformat": 4,
 "nbformat_minor": 5
}
