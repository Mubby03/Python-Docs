{
 "cells": [
  {
   "cell_type": "code",
   "execution_count": 1,
   "id": "5de732e0",
   "metadata": {},
   "outputs": [
    {
     "name": "stdout",
     "output_type": "stream",
     "text": [
      "Temperatures above boiling point: [300, 216, 233]\n",
      "Temperatures below freezing point: [23, 22, 10, 18]\n"
     ]
    },
    {
     "data": {
      "text/plain": [
       "'This code was written by Lawal Mubaraq \"20/2714\" For OOP in python quiz.'"
      ]
     },
     "execution_count": 1,
     "metadata": {},
     "output_type": "execute_result"
    }
   ],
   "source": [
    "# Lawal Mubaraq Abiodun.\n",
    "#CIS\n",
    "# 20/2714.\n",
    "#OOP Quiz: 27th March, 2024\n",
    "\n",
    "#create function called SieveNow\n",
    "def SieveNow(temperatures):\n",
    "    #using the filter method along with the lambda to create the partitiions for the list (above and below boiling point)\n",
    "    aboveBoil = list(filter(lambda x: x >= 212, temperatures))\n",
    "    belowFreeze = list(filter(lambda x: x <= 32, temperatures))\n",
    "    return aboveBoil, belowFreeze\n",
    "\n",
    "# temperature list in Farenheit.\n",
    "F = [111, 23, 300, 70, 22, 43, 60, 216, 233, 210, 160, 10, 18]\n",
    "aboveBoil, belowFreeze= SieveNow(F)\n",
    "\n",
    "#Print statement for the tempratures above and below boiling points\n",
    "print(\"Temperatures above boiling point:\", aboveBoil)\n",
    "print(\"Temperatures below freezing point:\", belowFreeze)\n",
    "\n",
    "#a doctype statement addressing Lawal Mubaraq ax the student \n",
    "\"\"\"This code was written by Lawal Mubaraq \"20/2714\" For OOP in python quiz.\"\"\""
   ]
  },
  {
   "cell_type": "code",
   "execution_count": null,
   "id": "ce0a87a2",
   "metadata": {},
   "outputs": [],
   "source": [
    "ezem@babcock.edu.ng"
   ]
  },
  {
   "cell_type": "code",
   "execution_count": null,
   "id": "d628456d",
   "metadata": {},
   "outputs": [],
   "source": []
  }
 ],
 "metadata": {
  "kernelspec": {
   "display_name": "Python 3 (ipykernel)",
   "language": "python",
   "name": "python3"
  },
  "language_info": {
   "codemirror_mode": {
    "name": "ipython",
    "version": 3
   },
   "file_extension": ".py",
   "mimetype": "text/x-python",
   "name": "python",
   "nbconvert_exporter": "python",
   "pygments_lexer": "ipython3",
   "version": "3.11.5"
  }
 },
 "nbformat": 4,
 "nbformat_minor": 5
}
