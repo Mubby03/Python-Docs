{
 "cells": [
  {
   "cell_type": "code",
   "execution_count": 1,
   "id": "eff68aa8",
   "metadata": {},
   "outputs": [
    {
     "name": "stdout",
     "output_type": "stream",
     "text": [
      "It's my wedding day. A great day\n",
      "Mr. man, put engagement ring on my hand\n"
     ]
    }
   ],
   "source": [
    "class Marriage:\n",
    "    def __init__(self, spouse):\n",
    "        self.spouse = spouse\n",
    "    \n",
    "    def wedding(self):\n",
    "        print(\"It's my wedding day. A great day\")\n",
    "        \n",
    "    def engagement(self):\n",
    "        print(\"Mr. man, put engagement ring on my hand\")\n",
    "\n",
    "# Create an instance of the Marriage class\n",
    "marry = Marriage(\"partner\")\n",
    "\n",
    "# Call the wedding method\n",
    "marry.wedding()\n",
    "\n",
    "# Call the engagement method\n",
    "marry.engagement()\n"
   ]
  },
  {
   "cell_type": "code",
   "execution_count": 14,
   "id": "a5abb73d",
   "metadata": {},
   "outputs": [
    {
     "name": "stdout",
     "output_type": "stream",
     "text": [
      "First Budget: 4000000000\n",
      "New Budget: 15000000000\n"
     ]
    }
   ],
   "source": [
    "class StateClass:\n",
    "    def __init__(self):\n",
    "        self.__y_budget = 4000000000  #private attribute to the initial budget\n",
    "\n",
    "    # Getter method created for the yBudget\n",
    "    def get__y_budget(self):\n",
    "        return self.__y_budget\n",
    "\n",
    "    # Setter method created for the yBudget\n",
    "    def set__y_budget(self, y__budget):\n",
    "        self.__y_budget = y__budget\n",
    "\n",
    "# Instance of the StateClass\n",
    "state = StateClass()\n",
    "\n",
    "# Geting the initial value of yBudget\n",
    "print(\"First Budget:\", state.get__y_budget())\n",
    "\n",
    "#Setter method\n",
    "state.set__y_budget(15000000000)\n",
    "\n",
    "# new print statement\n",
    "print(\"New Budget:\", state.get__y_budget())\n"
   ]
  },
  {
   "cell_type": "code",
   "execution_count": 4,
   "id": "627c3a25",
   "metadata": {},
   "outputs": [
    {
     "name": "stdout",
     "output_type": "stream",
     "text": [
      "Program Two: Map Functionality\n",
      "output [27, 64, 125, 216, 343, 512, 729, 1000]\n"
     ]
    }
   ],
   "source": [
    "print(\"Program Two: Map Functionality\")\n",
    "numx = [3,4,5,6,7,8,9,10]\n",
    "def cubes(x):\n",
    "    return x**3\n",
    "zz=list(map(cubes,numx))\n",
    "print(\"output\", zz)"
   ]
  },
  {
   "cell_type": "code",
   "execution_count": 5,
   "id": "d303bd36",
   "metadata": {},
   "outputs": [],
   "source": [
    "#learn the filter and the reducee operator and also lear how to use the modulo operator also. \n"
   ]
  },
  {
   "cell_type": "code",
   "execution_count": 1,
   "id": "82b769c2",
   "metadata": {},
   "outputs": [],
   "source": [
    "from functools import reduce\n"
   ]
  },
  {
   "cell_type": "code",
   "execution_count": 8,
   "id": "bf8ecf29",
   "metadata": {},
   "outputs": [
    {
     "name": "stdout",
     "output_type": "stream",
     "text": [
      "257\n"
     ]
    }
   ],
   "source": [
    "addExam = lambda exam1, exam2, exam3 : exam1 + exam2 + exam3\n",
    "print (addExam(97,85,75))"
   ]
  },
  {
   "cell_type": "code",
   "execution_count": 11,
   "id": "a0aed377",
   "metadata": {},
   "outputs": [
    {
     "name": "stdout",
     "output_type": "stream",
     "text": [
      "30\n"
     ]
    }
   ],
   "source": [
    "def perimeter(x,y):\n",
    "    return 2*(x+y)\n",
    "p = lambda x,y:2*(x+y)\n",
    "print(perimeter(10,5))\n",
    "print(p(10,5))"
   ]
  },
  {
   "cell_type": "code",
   "execution_count": 1,
   "id": "982e6a39",
   "metadata": {},
   "outputs": [
    {
     "ename": "NameError",
     "evalue": "name 'x' is not defined",
     "output_type": "error",
     "traceback": [
      "\u001b[0;31m---------------------------------------------------------------------------\u001b[0m",
      "\u001b[0;31mNameError\u001b[0m                                 Traceback (most recent call last)",
      "Cell \u001b[0;32mIn[1], line 3\u001b[0m\n\u001b[1;32m      1\u001b[0m \u001b[38;5;66;03m#multiplying the elementes in an array\u001b[39;00m\n\u001b[1;32m      2\u001b[0m xyz \u001b[38;5;241m=\u001b[39m [\u001b[38;5;241m2\u001b[39m,\u001b[38;5;241m4\u001b[39m,\u001b[38;5;241m5\u001b[39m,\u001b[38;5;241m2\u001b[39m,\u001b[38;5;241m5\u001b[39m,\u001b[38;5;241m2\u001b[39m,\u001b[38;5;241m4\u001b[39m,\u001b[38;5;241m14\u001b[39m]\n\u001b[0;32m----> 3\u001b[0m \u001b[38;5;28mprint\u001b[39m(x)\n",
      "\u001b[0;31mNameError\u001b[0m: name 'x' is not defined"
     ]
    }
   ],
   "source": [
    "#multiplying the elementes in an array\n",
    "xyz = [2,4,5,2,5,2,4,14]\n",
    "print(x)"
   ]
  },
  {
   "cell_type": "code",
   "execution_count": 11,
   "id": "226a6c54",
   "metadata": {},
   "outputs": [
    {
     "name": "stdout",
     "output_type": "stream",
     "text": [
      "[0, 1, 'mubby', 2, 3, 4]\n",
      "[0, 1, 2, 3, 4]\n",
      "[0, 2, 3, 4]\n",
      "[3, 4]\n"
     ]
    }
   ],
   "source": [
    "#how to delete in lists\n",
    "myList = [0,1,2,3,4]\n",
    "myList.insert(2,\"mubby\")\n",
    "print (myList)\n",
    "myList.pop(2)\n",
    "print(myList)\n",
    "myList.remove(1)\n",
    "print(myList)\n",
    "del myList[0:2]\n",
    "print(myList)"
   ]
  },
  {
   "cell_type": "code",
   "execution_count": 14,
   "id": "68aac343",
   "metadata": {},
   "outputs": [
    {
     "name": "stdout",
     "output_type": "stream",
     "text": [
      "[1, 2, 3, 4, 5, 6, '/', 1, 2, 3, 4, 5, 6, '/', 1, 2, 3, 4, 5, 6, '/', 1, 2, 3, 4, 5, 6, '/', 1, 2, 3, 4, 5, 6, '/']\n"
     ]
    }
   ],
   "source": [
    "#list replication\n",
    "myList = [1,2,3,4,5,6,\"/\"]\n",
    "myList = myList*5\n",
    "print (myList)"
   ]
  },
  {
   "cell_type": "code",
   "execution_count": 1,
   "id": "0dc12a77",
   "metadata": {},
   "outputs": [],
   "source": [
    "import sys"
   ]
  },
  {
   "cell_type": "code",
   "execution_count": 2,
   "id": "aeeb47a7",
   "metadata": {},
   "outputs": [
    {
     "data": {
      "text/plain": [
       "['/Users/mubaraq',\n",
       " '/Users/mubaraq/anaconda3/lib/python311.zip',\n",
       " '/Users/mubaraq/anaconda3/lib/python3.11',\n",
       " '/Users/mubaraq/anaconda3/lib/python3.11/lib-dynload',\n",
       " '',\n",
       " '/Users/mubaraq/anaconda3/lib/python3.11/site-packages',\n",
       " '/Users/mubaraq/anaconda3/lib/python3.11/site-packages/aeosa']"
      ]
     },
     "execution_count": 2,
     "metadata": {},
     "output_type": "execute_result"
    }
   ],
   "source": [
    "sys.path"
   ]
  },
  {
   "cell_type": "code",
   "execution_count": 21,
   "id": "1ac5e115",
   "metadata": {},
   "outputs": [],
   "source": [
    "import sys\n",
    "import os\n",
    "\n",
    "# Append the specified path to sys.path\n",
    "sys.path.append(r'/Users/mubaraq/Desktop/marathon')\n",
    "\n",
    "# Define the path for the new folder on the desktop\n",
    "desktop_path = '/Users/mubaraq/Desktop'\n",
    "new_folder_path = os.path.join(desktop_path, 'marathon')\n",
    "os.makedirs(new_folder_path)"
   ]
  },
  {
   "cell_type": "code",
   "execution_count": 4,
   "id": "86bc6f74",
   "metadata": {},
   "outputs": [],
   "source": [
    "quote = \"Babcock is a very Good Uiversity\"\n",
    "score = [101, 202, 303]\n",
    "def fara(arg):\n",
    "    print(f'arg = {arg}')\n",
    "    "
   ]
  },
  {
   "cell_type": "code",
   "execution_count": 1,
   "id": "75f72803",
   "metadata": {},
   "outputs": [
    {
     "ename": "SyntaxError",
     "evalue": "invalid syntax (2569264129.py, line 1)",
     "output_type": "error",
     "traceback": [
      "\u001b[0;36m  Cell \u001b[0;32mIn[1], line 1\u001b[0;36m\u001b[0m\n\u001b[0;31m    grp1 sub package -\u001b[0m\n\u001b[0m         ^\u001b[0m\n\u001b[0;31mSyntaxError\u001b[0m\u001b[0;31m:\u001b[0m invalid syntax\n"
     ]
    }
   ],
   "source": [
    "grp1 sub package - \n",
    "grp2 sub package - Damian and Princess\n",
    "grp3 sub package - Olarewanju"
   ]
  },
  {
   "cell_type": "code",
   "execution_count": 6,
   "id": "fa7c83e9",
   "metadata": {},
   "outputs": [
    {
     "ename": "SyntaxError",
     "evalue": "invalid character '“' (U+201C) (3990088150.py, line 5)",
     "output_type": "error",
     "traceback": [
      "\u001b[0;36m  Cell \u001b[0;32mIn[6], line 5\u001b[0;36m\u001b[0m\n\u001b[0;31m    emp.name=“Samuel”\u001b[0m\n\u001b[0m             ^\u001b[0m\n\u001b[0;31mSyntaxError\u001b[0m\u001b[0;31m:\u001b[0m invalid character '“' (U+201C)\n"
     ]
    }
   ],
   "source": [
    "class Employee:\n",
    "    id = 10\n",
    "    name = \"John\"\n",
    "emp = Employee()\n",
    "emp.name=“Samuel”"
   ]
  },
  {
   "cell_type": "code",
   "execution_count": 8,
   "id": "28e0701c",
   "metadata": {},
   "outputs": [
    {
     "name": "stdout",
     "output_type": "stream",
     "text": [
      "Hello INSY 404\n"
     ]
    }
   ],
   "source": [
    "class Example:\n",
    "    # A Simple Method\n",
    "    def test(self):\n",
    "        print(\"Hello INSY 404\")\n",
    "\n",
    "# Program Calls\n",
    "obj = Example()\n",
    "obj.test()\n"
   ]
  },
  {
   "cell_type": "code",
   "execution_count": 15,
   "id": "2288fb91",
   "metadata": {},
   "outputs": [
    {
     "name": "stdout",
     "output_type": "stream",
     "text": [
      "10\n"
     ]
    }
   ],
   "source": [
    "class MyClass:\n",
    "    def __init__(self, x, y):\n",
    "        self.x = x\n",
    "        self.y = y\n",
    "        print (self.x)\n",
    "# Creating an instance of MyClass\n",
    "obj = MyClass(10, 20)\n",
    "\n"
   ]
  },
  {
   "cell_type": "code",
   "execution_count": 18,
   "id": "41dccf34",
   "metadata": {},
   "outputs": [
    {
     "name": "stdout",
     "output_type": "stream",
     "text": [
      "The value of x is: 10\n"
     ]
    }
   ],
   "source": [
    "class MyClass:\n",
    "    def __init__(self, x):\n",
    "        self.x = x\n",
    "        print(\"The value of x is:\", self.x)\n",
    "\n",
    "# Creating an instance of MyClass\n",
    "obj = MyClass(10)\n",
    "\n",
    "# Calling the display method\n",
    "#obj.display()\n"
   ]
  },
  {
   "cell_type": "code",
   "execution_count": 25,
   "id": "447e175e",
   "metadata": {},
   "outputs": [
    {
     "ename": "SyntaxError",
     "evalue": "invalid syntax (3238165669.py, line 14)",
     "output_type": "error",
     "traceback": [
      "\u001b[0;36m  Cell \u001b[0;32mIn[25], line 14\u001b[0;36m\u001b[0m\n\u001b[0;31m    \"\"hello\"\"\u001b[0m\n\u001b[0m      ^\u001b[0m\n\u001b[0;31mSyntaxError\u001b[0m\u001b[0;31m:\u001b[0m invalid syntax\n"
     ]
    }
   ],
   "source": [
    "# afteroverride.py\n",
    "\n",
    "class King:\n",
    "    def action(self):\n",
    "        print('The Command of the King Stands')\n",
    "\n",
    "class Prince(King):\n",
    "    def action(self):\n",
    "        print('There is trouble in the Land')\n",
    "        print('The Small Boy Prince now Overrides Papa King')\n",
    "\n",
    "x = Prince()\n",
    "x.action()\n",
    "\"\"\"hello\"\"\""
   ]
  },
  {
   "cell_type": "code",
   "execution_count": 38,
   "id": "5815d39d",
   "metadata": {},
   "outputs": [
    {
     "ename": "TypeError",
     "evalue": "'function' object is not iterable",
     "output_type": "error",
     "traceback": [
      "\u001b[0;31m---------------------------------------------------------------------------\u001b[0m",
      "\u001b[0;31mTypeError\u001b[0m                                 Traceback (most recent call last)",
      "Cell \u001b[0;32mIn[38], line 7\u001b[0m\n\u001b[1;32m      4\u001b[0m         \u001b[38;5;28;01mpass\u001b[39;00m\n\u001b[1;32m      6\u001b[0m obj\u001b[38;5;241m=\u001b[39mGrade()\n\u001b[0;32m----> 7\u001b[0m obj\u001b[38;5;241m.\u001b[39mcourses(\u001b[38;5;241m9\u001b[39m)\n",
      "Cell \u001b[0;32mIn[38], line 3\u001b[0m, in \u001b[0;36mGrade.courses\u001b[0;34m(cosc401, math401, geds400)\u001b[0m\n\u001b[1;32m      2\u001b[0m \u001b[38;5;28;01mdef\u001b[39;00m \u001b[38;5;21mcourses\u001b[39m(cosc401\u001b[38;5;241m=\u001b[39m\u001b[38;5;241m90\u001b[39m, math401\u001b[38;5;241m=\u001b[39m\u001b[38;5;241m80\u001b[39m, geds400\u001b[38;5;241m=\u001b[39m\u001b[38;5;241m87\u001b[39m):\n\u001b[0;32m----> 3\u001b[0m     FineDay\u001b[38;5;241m=\u001b[39m\u001b[38;5;28mlist\u001b[39m(\u001b[38;5;28;01mlambda\u001b[39;00m x:(x\u001b[38;5;241m==\u001b[39m(cosc401\u001b[38;5;241m+\u001b[39mmath401\u001b[38;5;241m+\u001b[39mgeds400)\u001b[38;5;241m/\u001b[39m\u001b[38;5;241m3\u001b[39m))\n\u001b[1;32m      4\u001b[0m     \u001b[38;5;28;01mpass\u001b[39;00m\n",
      "\u001b[0;31mTypeError\u001b[0m: 'function' object is not iterable"
     ]
    }
   ],
   "source": [
    "class Grade:\n",
    "    def courses(cosc401=90, math401=80, geds400=87):\n",
    "        FineDay=list(lambda x:(x==(cosc401+math401+geds400)/3))\n",
    "        pass\n",
    "\n",
    "obj=Grade()\n",
    "obj.courses(9)"
   ]
  },
  {
   "cell_type": "code",
   "execution_count": 44,
   "id": "efeb884e",
   "metadata": {},
   "outputs": [
    {
     "name": "stdout",
     "output_type": "stream",
     "text": [
      "['mali', 'Nigeria', 'Senegal', 'Russia']\n"
     ]
    }
   ],
   "source": [
    "p = ['mali','Nigeria','Senegal']\n",
    "p.append  ('Russia')\n",
    "print (p)"
   ]
  },
  {
   "cell_type": "code",
   "execution_count": 46,
   "id": "75d3a7bd",
   "metadata": {},
   "outputs": [
    {
     "name": "stdout",
     "output_type": "stream",
     "text": [
      "['mali', 'Nigeria', 'Russia', 'Senegal']\n"
     ]
    }
   ],
   "source": [
    "p = ['mali','Nigeria','Senegal']\n",
    "p.insert(2,'Russia')\n",
    "print (p)"
   ]
  },
  {
   "cell_type": "code",
   "execution_count": 51,
   "id": "e659260f",
   "metadata": {},
   "outputs": [
    {
     "name": "stdout",
     "output_type": "stream",
     "text": [
      "['mali', 'Nigeria', 'Senegal', 1, 2, 3]\n",
      "Senegal\n"
     ]
    }
   ],
   "source": [
    "p = ['mali','Nigeria','Senegal']\n",
    "p.extend([1,2,3])\n",
    "print (p)\n",
    "r = p.pop(2)\n",
    "print(r)"
   ]
  },
  {
   "cell_type": "code",
   "execution_count": null,
   "id": "27501ac6",
   "metadata": {},
   "outputs": [],
   "source": []
  }
 ],
 "metadata": {
  "kernelspec": {
   "display_name": "Python 3 (ipykernel)",
   "language": "python",
   "name": "python3"
  },
  "language_info": {
   "codemirror_mode": {
    "name": "ipython",
    "version": 3
   },
   "file_extension": ".py",
   "mimetype": "text/x-python",
   "name": "python",
   "nbconvert_exporter": "python",
   "pygments_lexer": "ipython3",
   "version": "3.11.5"
  }
 },
 "nbformat": 4,
 "nbformat_minor": 5
}
