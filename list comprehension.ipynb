{
 "cells": [
  {
   "cell_type": "code",
   "execution_count": 2,
   "id": "fde74c9a",
   "metadata": {},
   "outputs": [],
   "source": []
  },
  {
   "cell_type": "code",
   "execution_count": 19,
   "id": "02eed3b8",
   "metadata": {},
   "outputs": [
    {
     "name": "stdout",
     "output_type": "stream",
     "text": [
      "The list of multiples of 3 between 1 to 31 includes: [3, 6, 9, 12, 15, 18, 21, 24, 27, 30]\n",
      "The list of even numbers between 1 and 21: [2, 4, 6, 8, 10, 12, 14, 16, 18, 20]\n",
      "The list of perfect squares between 1 and 101 includes: [1, 4, 9, 16, 25, 36, 49, 64, 81, 100]\n"
     ]
    }
   ],
   "source": [
    "    # Lawal Mubaraq Abiodun\n",
    "    # 20/2714\n",
    "    # CIS\n",
    "    # OOP with python Quiz to generate lists using list comprehension. \n",
    "    \n",
    "    # multiples of 3 between 1 to 31\n",
    "M = [i for i in range(1, 32) if i % 3 == 0]\n",
    "\n",
    "# even integers between 1 to 21\n",
    "E = [i for i in range(1, 22) if i % 2 == 0]\n",
    "\n",
    "# perfect squares between 1 and 101\n",
    "P = [i for i in range(1, 102) if int(i ** 0.5) ** 2 == i]\n",
    "\n",
    "print(\"The list of multiples of 3 between 1 to 31 includes:\", M)\n",
    "\n",
    "print(\"The list of even numbers between 1 and 21:\", E)\n",
    "\n",
    "print(\"The list of perfect squares between 1 and 101 includes:\", P)"
   ]
  },
  {
   "cell_type": "code",
   "execution_count": 18,
   "id": "1e4e9be4",
   "metadata": {},
   "outputs": [
    {
     "name": "stdout",
     "output_type": "stream",
     "text": [
      "The list of multiples of 3 between 1 to 31 includes: [3, 6, 9, 12, 15, 18, 21, 24, 27, 30]\n",
      "The list of even numbers between 1 and 21: [2, 4, 6, 8, 10, 12, 14, 16, 18, 20]\n",
      "The list of perfect squares between 1 and 101 includes: [1, 4, 9, 16, 25, 36, 49, 64, 81, 100]\n"
     ]
    }
   ],
   "source": []
  },
  {
   "cell_type": "code",
   "execution_count": null,
   "id": "597eb0dc",
   "metadata": {},
   "outputs": [],
   "source": []
  }
 ],
 "metadata": {
  "kernelspec": {
   "display_name": "Python 3 (ipykernel)",
   "language": "python",
   "name": "python3"
  },
  "language_info": {
   "codemirror_mode": {
    "name": "ipython",
    "version": 3
   },
   "file_extension": ".py",
   "mimetype": "text/x-python",
   "name": "python",
   "nbconvert_exporter": "python",
   "pygments_lexer": "ipython3",
   "version": "3.11.5"
  }
 },
 "nbformat": 4,
 "nbformat_minor": 5
}
