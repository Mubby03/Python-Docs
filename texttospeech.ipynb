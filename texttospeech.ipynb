{
 "cells": [
  {
   "cell_type": "code",
   "execution_count": 3,
   "id": "f1681c94-944f-474f-8639-820417846369",
   "metadata": {},
   "outputs": [],
   "source": [
    "import subprocess\n",
    "\n",
    "def text_to_speech_mac(text):\n",
    "    # Construct the say command\n",
    "    say_command = [\"say\", text]\n",
    "\n",
    "    try:\n",
    "        # Run the say command\n",
    "        subprocess.run(say_command)\n",
    "    except Exception as e:\n",
    "        print(f\"Error occurred: {e}\")\n",
    "\n",
    "text_to_speech_mac(\"Hello, please grade me well please like a 24 over 25\")\n"
   ]
  },
  {
   "cell_type": "code",
   "execution_count": null,
   "id": "e812309f-0981-4496-a307-b0ba3eccc026",
   "metadata": {},
   "outputs": [],
   "source": [
    "import os\n",
    "\n",
    "def text_to_speech_mac(text, voice=\"Alex\", rate=250):\n",
    "    \"\"\"\n",
    "    Converts text to speech on macOS using the built-in 'say' command.\n",
    "\n",
    "    Parameters:\n",
    "    text (str): The text to be spoken.\n",
    "    voice (str): The voice to be used. Default is 'Alex'.\n",
    "    rate (int): The speaking rate (words per minute). Default is 200.\n",
    "    \"\"\"\n",
    "    # Construct the command string\n",
    "    command = f\"say '{text}' -v {voice} -r {rate}\"\n",
    "    \n",
    "    # Execute the command\n",
    "    os.system(command)\n",
    "\n",
    "# Prompting user for input\n",
    "user_input = input(\"Enter the text you want to convert to speech: \")\n",
    "\n",
    "# Example usage with user input and female voice (Samantha)\n",
    "text_to_speech_mac(user_input, voice=\"Samantha\", rate=250)\n"
   ]
  },
  {
   "cell_type": "code",
   "execution_count": null,
   "id": "6f2ed1c3-632a-4920-83cf-ae23a238028c",
   "metadata": {},
   "outputs": [],
   "source": []
  }
 ],
 "metadata": {
  "kernelspec": {
   "display_name": "Python 3 (ipykernel)",
   "language": "python",
   "name": "python3"
  },
  "language_info": {
   "codemirror_mode": {
    "name": "ipython",
    "version": 3
   },
   "file_extension": ".py",
   "mimetype": "text/x-python",
   "name": "python",
   "nbconvert_exporter": "python",
   "pygments_lexer": "ipython3",
   "version": "3.11.5"
  }
 },
 "nbformat": 4,
 "nbformat_minor": 5
}
