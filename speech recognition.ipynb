{
 "cells": [
  {
   "cell_type": "code",
   "execution_count": 3,
   "id": "d4374597-d9dc-40ee-9395-3983369d8fa9",
   "metadata": {},
   "outputs": [
    {
     "name": "stdout",
     "output_type": "stream",
     "text": [
      "Recording for 5 seconds...\n",
      "You said: hello\n"
     ]
    }
   ],
   "source": [
    "import sounddevice as sd\n",
    "from scipy.io.wavfile import write\n",
    "import speech_recognition as sr\n",
    "\n",
    "def record_audio(filename='temp.wav', duration=5, fs=44100, channels=1):\n",
    "    \"\"\"\n",
    "    Record audio from the microphone and save it as a WAV file.\n",
    "\n",
    "    Parameters:\n",
    "    filename (str): Filename to save the recording.\n",
    "    duration (int): Recording duration in seconds.\n",
    "    fs (int): Sampling frequency.\n",
    "    channels (int): Number of audio channels.\n",
    "    \"\"\"\n",
    "    print(\"Recording for {} seconds...\".format(duration))\n",
    "    recording = sd.rec(int(duration * fs), samplerate=fs, channels=channels, dtype='int16')\n",
    "    sd.wait()  # Wait until recording is finished\n",
    "    write(filename, fs, recording)  # Save the recording\n",
    "\n",
    "def recognize_speech_from_file(filename):\n",
    "    \"\"\"\n",
    "    Recognize speech using the SpeechRecognition library from an audio file.\n",
    "\n",
    "    Parameters:\n",
    "    filename (str): Path to the audio file.\n",
    "    \"\"\"\n",
    "    recognizer = sr.Recognizer()\n",
    "    with sr.AudioFile(filename) as source:\n",
    "        audio_data = recognizer.record(source)\n",
    "        try:\n",
    "            text = recognizer.recognize_google(audio_data)\n",
    "            return text\n",
    "        except sr.UnknownValueError:\n",
    "            return \"Google Speech Recognition could not understand audio\"\n",
    "        except sr.RequestError as e:\n",
    "            return \"Could not request results from Google Speech Recognition service; {0}\".format(e)\n",
    "        except Exception as e:\n",
    "            return \"An error occurred: {0}\".format(e)\n",
    "\n",
    "asked_once = False  # Variable to track whether it has already asked once\n",
    "\n",
    "while not asked_once:\n",
    "    record_audio(duration=5)  # Record for 5 seconds\n",
    "    text = recognize_speech_from_file('temp.wav')\n",
    "    print(\"You said: {}\".format(text))\n",
    "\n",
    "    asked_once = True  # Set to True to break out of the loop after asking once\n",
    "\n",
    "    # You can add more conditions to break the loop based on specific words\n",
    "    if 'stop' in text.lower():\n",
    "        break\n"
   ]
  },
  {
   "cell_type": "code",
   "execution_count": null,
   "id": "139420d8-40da-45fd-83d0-ba3c0d614cdd",
   "metadata": {},
   "outputs": [],
   "source": []
  },
  {
   "cell_type": "code",
   "execution_count": null,
   "id": "fe944439-a88b-4654-9365-083fe53b7756",
   "metadata": {},
   "outputs": [],
   "source": []
  },
  {
   "cell_type": "code",
   "execution_count": null,
   "id": "fc9c548b-102c-40ac-8138-f5475a6d8560",
   "metadata": {},
   "outputs": [],
   "source": []
  }
 ],
 "metadata": {
  "kernelspec": {
   "display_name": "Python 3 (ipykernel)",
   "language": "python",
   "name": "python3"
  },
  "language_info": {
   "codemirror_mode": {
    "name": "ipython",
    "version": 3
   },
   "file_extension": ".py",
   "mimetype": "text/x-python",
   "name": "python",
   "nbconvert_exporter": "python",
   "pygments_lexer": "ipython3",
   "version": "3.11.5"
  }
 },
 "nbformat": 4,
 "nbformat_minor": 5
}
